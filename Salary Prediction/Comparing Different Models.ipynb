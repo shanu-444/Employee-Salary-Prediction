{
 "cells": [
  {
   "cell_type": "markdown",
   "id": "f4bc7c9d",
   "metadata": {
    "id": "f4bc7c9d"
   },
   "source": [
    "# Compare Different Models  "
   ]
  },
  {
   "cell_type": "code",
   "execution_count": 76,
   "id": "97f92cb7",
   "metadata": {
    "id": "97f92cb7"
   },
   "outputs": [
    {
     "name": "stdout",
     "output_type": "stream",
     "text": [
      "╒═════════════════════════════════╤═════════════════════╤════════════════════╤═══════════════╤══════════════╕\n",
      "│ Model                           │   R-squared (Train) │   R-squared (Test) │   MSE (Train) │   MSE (Test) │\n",
      "╞═════════════════════════════════╪═════════════════════╪════════════════════╪═══════════════╪══════════════╡\n",
      "│ Linear Regression               │              \u001b[31m0.5335\u001b[0m │             \u001b[31m0.5367\u001b[0m │   \u001b[32m7.50261e+07\u001b[0m │  \u001b[32m6.87513e+07\u001b[0m │\n",
      "├─────────────────────────────────┼─────────────────────┼────────────────────┼───────────────┼──────────────┤\n",
      "│ Ridge Regression                │              \u001b[31m0.5335\u001b[0m │             \u001b[31m0.5366\u001b[0m │   \u001b[32m7.50285e+07\u001b[0m │  \u001b[32m6.87639e+07\u001b[0m │\n",
      "├─────────────────────────────────┼─────────────────────┼────────────────────┼───────────────┼──────────────┤\n",
      "│ Lasso Regression                │              \u001b[31m0.5332\u001b[0m │             \u001b[31m0.5374\u001b[0m │   \u001b[32m7.50802e+07\u001b[0m │  \u001b[32m6.86434e+07\u001b[0m │\n",
      "├─────────────────────────────────┼─────────────────────┼────────────────────┼───────────────┼──────────────┤\n",
      "│ Decision Tree Regression        │              \u001b[32m0.6137\u001b[0m │             \u001b[31m0.5928\u001b[0m │   \u001b[32m6.21251e+07\u001b[0m │  \u001b[32m6.04246e+07\u001b[0m │\n",
      "├─────────────────────────────────┼─────────────────────┼────────────────────┼───────────────┼──────────────┤\n",
      "│ Decision Tree with GridSearchCV │              \u001b[32m0.6398\u001b[0m │             \u001b[32m0.6032\u001b[0m │   \u001b[32m5.79333e+07\u001b[0m │  \u001b[32m5.88759e+07\u001b[0m │\n",
      "├─────────────────────────────────┼─────────────────────┼────────────────────┼───────────────┼──────────────┤\n",
      "│ Random Forest Regressor         │              \u001b[32m0.8975\u001b[0m │             \u001b[32m0.6468\u001b[0m │   \u001b[32m1.64781e+07\u001b[0m │  \u001b[32m5.24066e+07\u001b[0m │\n",
      "├─────────────────────────────────┼─────────────────────┼────────────────────┼───────────────┼──────────────┤\n",
      "│ XG Boost Regressor              │              \u001b[32m0.6531\u001b[0m │             \u001b[31m0.5931\u001b[0m │   \u001b[32m5.6714e+07\u001b[0m  │  \u001b[32m5.83896e+07\u001b[0m │\n",
      "├─────────────────────────────────┼─────────────────────┼────────────────────┼───────────────┼──────────────┤\n",
      "│ Bagging Regressor               │              \u001b[32m0.9452\u001b[0m │             \u001b[31m0.5928\u001b[0m │   \u001b[32m8.95275e+06\u001b[0m │  \u001b[32m5.84252e+07\u001b[0m │\n",
      "╘═════════════════════════════════╧═════════════════════╧════════════════════╧═══════════════╧══════════════╛\n"
     ]
    }
   ],
   "source": [
    "# Function to colorize values based on a threshold\n",
    "def colorize(value, threshold=0.6):\n",
    "    if value < threshold:\n",
    "        return f\"{Fore.RED}{value:.4f}{Style.RESET_ALL}\"\n",
    "    return f\"{Fore.GREEN}{value:.4f}{Style.RESET_ALL}\"\n",
    "\n",
    "# Define your headings\n",
    "headings = [\"Model\", \"R-squared (Train)\", \"R-squared (Test)\", \"MSE (Train)\", \"MSE (Test)\"]\n",
    "\n",
    "# Data for the table\n",
    "data = [\n",
    "    [\"Linear Regression\", colorize(r2_lm_multi_train), colorize(r2_lm_multi_test), colorize(mse_lm_multi_train), colorize(mse_lm_multi_test)],\n",
    "    [\"Ridge Regression\", colorize(r2_lm_r_best_train), colorize(r2_lm_r_best_test), colorize(mse_lm_r_best_train), colorize(mse_lm_r_best_test)],\n",
    "    [\"Lasso Regression\", colorize(r2_lm_l_best_train), colorize(r2_lm_l_best_test), colorize(mse_lm_l_best_train), colorize(mse_lm_l_best_test)],\n",
    "    [\"Decision Tree Regression\", colorize(r2_regtree_train), colorize(r2_regtree_test), colorize(mse_regtree_train), colorize(mse_regtree_test)],\n",
    "    [\"Decision Tree with GridSearchCV\", colorize(r2_train_dt), colorize(r2_test_dt), colorize(mse_train_dt), colorize(mse_test_dt)],\n",
    "    [\"Random Forest Regressor\", colorize(r2_train_rf), colorize(r2_test_rf), colorize(mse_train_rf), colorize(mse_test_rf)],\n",
    "    [\"XG Boost Regressor\", colorize(r2_train_xgb), colorize(r2_test_xgb), colorize(mse_train_xgb), colorize(mse_test_xgb)],\n",
    "    [\"Bagging Regressor\", colorize(r2_train_bagging_reg), colorize(r2_test_bagging_reg), colorize(mse_train_bagging_reg), colorize(mse_test_bagging_reg)],\n",
    "]\n",
    "\n",
    "# Print the table\n",
    "table = tabulate(data, headers=headings, tablefmt=\"fancy_grid\")\n",
    "print(table)"
   ]
  },
  {
   "cell_type": "code",
   "execution_count": null,
   "id": "409f1590",
   "metadata": {},
   "outputs": [],
   "source": []
  }
 ],
 "metadata": {
  "colab": {
   "provenance": []
  },
  "kernelspec": {
   "display_name": "Python 3 (ipykernel)",
   "language": "python",
   "name": "python3"
  },
  "language_info": {
   "codemirror_mode": {
    "name": "ipython",
    "version": 3
   },
   "file_extension": ".py",
   "mimetype": "text/x-python",
   "name": "python",
   "nbconvert_exporter": "python",
   "pygments_lexer": "ipython3",
   "version": "3.10.9"
  }
 },
 "nbformat": 4,
 "nbformat_minor": 5
}
