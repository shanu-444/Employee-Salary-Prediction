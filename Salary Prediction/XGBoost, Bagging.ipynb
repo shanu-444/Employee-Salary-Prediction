{
 "cells": [
  {
   "cell_type": "markdown",
   "id": "9236996b",
   "metadata": {
    "id": "9236996b"
   },
   "source": [
    "## XG Boost Regressor"
   ]
  },
  {
   "cell_type": "code",
   "execution_count": 67,
   "id": "9a1937a7",
   "metadata": {
    "id": "9a1937a7"
   },
   "outputs": [
    {
     "name": "stdout",
     "output_type": "stream",
     "text": [
      "Best Hyperparameters:  {'learning_rate': 0.01, 'max_depth': 3, 'min_child_weight': 3, 'n_estimators': 300}\n",
      "R-squared (R2) for Training Data: 0.6531205659875161\n",
      "R-squared (R2) for Testing Data: 0.5930683308017327\n",
      "Mean Squared Error (MSE) for Training Data: 56714043.28503834\n",
      "Mean Squared Error (MSE) for Testing Data: 58389552.327463485\n"
     ]
    }
   ],
   "source": [
    "\n",
    "\n",
    "# Define the hyperparameters and their possible values\n",
    "param_grid = {\n",
    "    'n_estimators': [100, 200, 300],  # Number of boosting rounds\n",
    "    'max_depth': [3, 4, 5],  # Maximum depth of the trees\n",
    "    'learning_rate': [0.01, 0.1, 0.2],  # Learning rate\n",
    "    'min_child_weight': [1, 2, 3],  # Minimum sum of instance weight (hessian) needed in a child\n",
    "}\n",
    "\n",
    "# Create an XGBRegressor\n",
    "xgb_gs = XGBRegressor()\n",
    "\n",
    "# Create the GridSearchCV object with R2 scoring\n",
    "grid_search = GridSearchCV(xgb_gs, param_grid, cv=5, scoring='r2', n_jobs=-1)\n",
    "\n",
    "# Fit the GridSearchCV to the training data\n",
    "grid_search.fit(x_train, y_train)\n",
    "\n",
    "# Print the best hyperparameters and corresponding R-squared\n",
    "print(\"Best Hyperparameters: \", grid_search.best_params_)\n",
    "\n",
    "best_xgb_param = grid_search.best_params_\n",
    "# Get the best estimator (XGBRegressor) with the best hyperparameters\n",
    "best_xgb = grid_search.best_estimator_\n",
    "\n",
    "# Use the best estimator to make predictions\n",
    "y_train_pred = best_xgb.predict(x_train)\n",
    "y_test_pred = best_xgb.predict(x_test)\n",
    "\n",
    "# Calculate the R-squared scores for training data\n",
    "r2_train_xgb = r2_score(y_train, y_train_pred)\n",
    "\n",
    "# Calculate the R-squared scores for testing data\n",
    "r2_test_xgb = r2_score(y_test, y_test_pred)\n",
    "\n",
    "# Calculate the Mean Squared Error for training data\n",
    "mse_train_xgb = mean_squared_error(y_train, y_train_pred)\n",
    "\n",
    "# Calculate the Mean Squared Error for testing data\n",
    "mse_test_xgb = mean_squared_error(y_test, y_test_pred)\n",
    "\n",
    "# Print the results\n",
    "print(\"R-squared (R2) for Training Data:\", r2_train_xgb)\n",
    "print(\"R-squared (R2) for Testing Data:\", r2_test_xgb)\n",
    "print(\"Mean Squared Error (MSE) for Training Data:\", mse_train_xgb)\n",
    "print(\"Mean Squared Error (MSE) for Testing Data:\", mse_test_xgb)"
   ]
  },
  {
   "cell_type": "markdown",
   "id": "edf072b2",
   "metadata": {
    "id": "edf072b2"
   },
   "source": [
    "## Bagging Regressor"
   ]
  },
  {
   "cell_type": "code",
   "execution_count": 71,
   "id": "2af11720",
   "metadata": {
    "id": "2af11720"
   },
   "outputs": [
    {
     "name": "stdout",
     "output_type": "stream",
     "text": [
      "Best Hyperparameters:  {'n_estimators': 200}\n",
      "R-squared (R2) for Training Data: 0.9452423921939579\n",
      "R-squared (R2) for Testing Data: 0.5928202372696956\n",
      "Mean Squared Error (MSE) for Training Data: 8952751.40233669\n",
      "Mean Squared Error (MSE) for Testing Data: 58425150.61427052\n"
     ]
    }
   ],
   "source": [
    "from sklearn.tree import DecisionTreeRegressor\n",
    "\n",
    "# Create a base regression model\n",
    "base_model = DecisionTreeRegressor()\n",
    "\n",
    "# Create a BaggingRegressor with the base model\n",
    "bagging_reg = BaggingRegressor(base_model, random_state=0)\n",
    "\n",
    "# Define the hyperparameters and their possible values\n",
    "param_grid = {\n",
    "    'n_estimators': [50, 100, 150, 200]  # List of possible numbers of base models\n",
    "}\n",
    "\n",
    "# Create the GridSearchCV object\n",
    "grid_search = GridSearchCV(bagging_reg, param_grid, cv=5, scoring='r2', n_jobs=-1)\n",
    "\n",
    "# Fit the GridSearchCV to the training data\n",
    "grid_search.fit(x_train, y_train)\n",
    "\n",
    "# Print the best hyperparameters and corresponding mean squared error\n",
    "print(\"Best Hyperparameters: \", grid_search.best_params_)\n",
    "\n",
    "# Get the best estimator (BaggingRegressor) with the best hyperparameters\n",
    "best_bagging_reg = grid_search.best_estimator_\n",
    "\n",
    "# Use the best estimator to make predictions\n",
    "y_train_pred = best_bagging_reg.predict(x_train)\n",
    "y_test_pred = best_bagging_reg.predict(x_test)\n",
    "\n",
    "# Calculate the R-squared scores for training data\n",
    "r2_train_bagging_reg = r2_score(y_train, y_train_pred)\n",
    "\n",
    "# Calculate the R-squared scores for testing data\n",
    "r2_test_bagging_reg = r2_score(y_test, y_test_pred)\n",
    "\n",
    "# Calculate the Mean Squared Error for training data\n",
    "mse_train_bagging_reg = mean_squared_error(y_train, y_train_pred)\n",
    "mse_test_bagging_reg = mean_squared_error(y_test, y_test_pred)\n",
    "\n",
    "# Print the results\n",
    "print(\"R-squared (R2) for Training Data:\", r2_train_bagging_reg)\n",
    "print(\"R-squared (R2) for Testing Data:\", r2_test_bagging_reg)\n",
    "print(\"Mean Squared Error (MSE) for Training Data:\", mse_train_bagging_reg)\n",
    "print(\"Mean Squared Error (MSE) for Testing Data:\", mse_test_bagging_reg)\n"
   ]
  }
 ],
 "metadata": {
  "colab": {
   "provenance": []
  },
  "kernelspec": {
   "display_name": "Python 3 (ipykernel)",
   "language": "python",
   "name": "python3"
  },
  "language_info": {
   "codemirror_mode": {
    "name": "ipython",
    "version": 3
   },
   "file_extension": ".py",
   "mimetype": "text/x-python",
   "name": "python",
   "nbconvert_exporter": "python",
   "pygments_lexer": "ipython3",
   "version": "3.10.9"
  }
 },
 "nbformat": 4,
 "nbformat_minor": 5
}
