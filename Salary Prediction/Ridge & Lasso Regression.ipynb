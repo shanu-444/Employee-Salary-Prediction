{
 "cells": [
  {
   "cell_type": "markdown",
   "id": "e010e4e1",
   "metadata": {
    "id": "e010e4e1"
   },
   "source": [
    "## Ridge Regression"
   ]
  },
  {
   "cell_type": "markdown",
   "id": "6753d99d",
   "metadata": {
    "id": "6753d99d"
   },
   "source": [
    "#### Standardize data"
   ]
  },
  {
   "cell_type": "code",
   "execution_count": 50,
   "id": "93dff6c0",
   "metadata": {
    "id": "93dff6c0"
   },
   "outputs": [],
   "source": [
    "\n",
    "\n",
    "# Standardize the data using StandardScaler from scikit-learn\n",
    "scaler = preprocessing.StandardScaler().fit(x_train)\n",
    "x_train_s = scaler.transform(x_train)\n",
    "x_test_s = scaler.transform(x_test)\n"
   ]
  },
  {
   "cell_type": "markdown",
   "id": "454b1262",
   "metadata": {
    "id": "454b1262"
   },
   "source": [
    "##### Ridge Regression Model"
   ]
  },
  {
   "cell_type": "code",
   "execution_count": 52,
   "id": "9c7800e4",
   "metadata": {
    "id": "9c7800e4"
   },
   "outputs": [
    {
     "data": {
      "text/plain": [
       "<seaborn.axisgrid.JointGrid at 0x1f9f069fd00>"
      ]
     },
     "execution_count": 52,
     "metadata": {},
     "output_type": "execute_result"
    },
    {
     "data": {
      "image/png": "[encoded data removed]",
      "text/plain": [
       "<Figure size 600x600 with 3 Axes>"
      ]
     },
     "metadata": {},
     "output_type": "display_data"
    }
   ],
   "source": [
    "# Define a range of alpha values for Ridge regression\n",
    "param_range = np.logspace(-2, 8, 100)\n",
    "\n",
    "from sklearn.model_selection import validation_curve\n",
    "\n",
    "\n",
    "# Perform cross-validated validation curve to find the best alpha for Ridge regression\n",
    "train_scores, valid_scores = validation_curve(\n",
    "    Ridge(), x_train_s, y_train, param_name=\"alpha\", param_range=param_range, cv=5, scoring='r2')\n",
    "\n",
    "# Calculate mean R-squared scores for training and validation sets\n",
    "train_mean = np.mean(train_scores, axis = 1)\n",
    "test_mean = np.mean(valid_scores, axis = 1)\n",
    "\n",
    "# Create a joint plot to visualize the relationship between log(alpha) and R-squared\n",
    "sns.jointplot(x=np.log(param_range), y=test_mean)"
   ]
  },
  {
   "cell_type": "code",
   "execution_count": 53,
   "id": "033b2b5d",
   "metadata": {
    "id": "033b2b5d"
   },
   "outputs": [
    {
     "data": {
      "text/html": [
       "<style>#sk-container-id-1 {color: black;background-color: white;}#sk-container-id-1 pre{padding: 0;}#sk-container-id-1 div.sk-toggleable {background-color: white;}#sk-container-id-1 label.sk-toggleable__label {cursor: pointer;display: block;width: 100%;margin-bottom: 0;padding: 0.3em;box-sizing: border-box;text-align: center;}#sk-container-id-1 label.sk-toggleable__label-arrow:before {content: \"▸\";float: left;margin-right: 0.25em;color: #696969;}#sk-container-id-1 label.sk-toggleable__label-arrow:hover:before {color: black;}#sk-container-id-1 div.sk-estimator:hover label.sk-toggleable__label-arrow:before {color: black;}#sk-container-id-1 div.sk-toggleable__content {max-height: 0;max-width: 0;overflow: hidden;text-align: left;background-color: #f0f8ff;}#sk-container-id-1 div.sk-toggleable__content pre {margin: 0.2em;color: black;border-radius: 0.25em;background-color: #f0f8ff;}#sk-container-id-1 input.sk-toggleable__control:checked~div.sk-toggleable__content {max-height: 200px;max-width: 100%;overflow: auto;}#sk-container-id-1 input.sk-toggleable__control:checked~label.sk-toggleable__label-arrow:before {content: \"▾\";}#sk-container-id-1 div.sk-estimator input.sk-toggleable__control:checked~label.sk-toggleable__label {background-color: #d4ebff;}#sk-container-id-1 div.sk-label input.sk-toggleable__control:checked~label.sk-toggleable__label {background-color: #d4ebff;}#sk-container-id-1 input.sk-hidden--visually {border: 0;clip: rect(1px 1px 1px 1px);clip: rect(1px, 1px, 1px, 1px);height: 1px;margin: -1px;overflow: hidden;padding: 0;position: absolute;width: 1px;}#sk-container-id-1 div.sk-estimator {font-family: monospace;background-color: #f0f8ff;border: 1px dotted black;border-radius: 0.25em;box-sizing: border-box;margin-bottom: 0.5em;}#sk-container-id-1 div.sk-estimator:hover {background-color: #d4ebff;}#sk-container-id-1 div.sk-parallel-item::after {content: \"\";width: 100%;border-bottom: 1px solid gray;flex-grow: 1;}#sk-container-id-1 div.sk-label:hover label.sk-toggleable__label {background-color: #d4ebff;}#sk-container-id-1 div.sk-serial::before {content: \"\";position: absolute;border-left: 1px solid gray;box-sizing: border-box;top: 0;bottom: 0;left: 50%;z-index: 0;}#sk-container-id-1 div.sk-serial {display: flex;flex-direction: column;align-items: center;background-color: white;padding-right: 0.2em;padding-left: 0.2em;position: relative;}#sk-container-id-1 div.sk-item {position: relative;z-index: 1;}#sk-container-id-1 div.sk-parallel {display: flex;align-items: stretch;justify-content: center;background-color: white;position: relative;}#sk-container-id-1 div.sk-item::before, #sk-container-id-1 div.sk-parallel-item::before {content: \"\";position: absolute;border-left: 1px solid gray;box-sizing: border-box;top: 0;bottom: 0;left: 50%;z-index: -1;}#sk-container-id-1 div.sk-parallel-item {display: flex;flex-direction: column;z-index: 1;position: relative;background-color: white;}#sk-container-id-1 div.sk-parallel-item:first-child::after {align-self: flex-end;width: 50%;}#sk-container-id-1 div.sk-parallel-item:last-child::after {align-self: flex-start;width: 50%;}#sk-container-id-1 div.sk-parallel-item:only-child::after {width: 0;}#sk-container-id-1 div.sk-dashed-wrapped {border: 1px dashed gray;margin: 0 0.4em 0.5em 0.4em;box-sizing: border-box;padding-bottom: 0.4em;background-color: white;}#sk-container-id-1 div.sk-label label {font-family: monospace;font-weight: bold;display: inline-block;line-height: 1.2em;}#sk-container-id-1 div.sk-label-container {text-align: center;}#sk-container-id-1 div.sk-container {/* jupyter's `normalize.less` sets `[hidden] { display: none; }` but bootstrap.min.css set `[hidden] { display: none !important; }` so we also need the `!important` here to be able to override the default hidden behavior on the sphinx rendered scikit-learn.org. See: https://github.com/scikit-learn/scikit-learn/issues/21755 */display: inline-block !important;position: relative;}#sk-container-id-1 div.sk-text-repr-fallback {display: none;}</style><div id=\"sk-container-id-1\" class=\"sk-top-container\"><div class=\"sk-text-repr-fallback\"><pre>Ridge(alpha=10.722672220103231)</pre><b>In a Jupyter environment, please rerun this cell to show the HTML representation or trust the notebook. <br />On GitHub, the HTML representation is unable to render, please try loading this page with nbviewer.org.</b></div><div class=\"sk-container\" hidden><div class=\"sk-item\"><div class=\"sk-estimator sk-toggleable\"><input class=\"sk-toggleable__control sk-hidden--visually\" id=\"sk-estimator-id-1\" type=\"checkbox\" checked><label for=\"sk-estimator-id-1\" class=\"sk-toggleable__label sk-toggleable__label-arrow\">Ridge</label><div class=\"sk-toggleable__content\"><pre>Ridge(alpha=10.722672220103231)</pre></div></div></div></div></div>"
      ],
      "text/plain": [
       "Ridge(alpha=10.722672220103231)"
      ]
     },
     "execution_count": 53,
     "metadata": {},
     "output_type": "execute_result"
    }
   ],
   "source": [
    "# Find the alpha value with the highest validation R-squared\n",
    "np.where(test_mean==max(test_mean))\n",
    "\n",
    "# Train a Ridge regression model with the best alpha\n",
    "lm_r_best = Ridge(alpha = param_range[30])\n",
    "lm_r_best.fit(x_train_s, y_train)"
   ]
  },
  {
   "cell_type": "markdown",
   "id": "55d761ad",
   "metadata": {
    "id": "55d761ad"
   },
   "source": [
    "##### Evaluate the model on the testing and training data"
   ]
  },
  {
   "cell_type": "code",
   "execution_count": 54,
   "id": "1c40d804",
   "metadata": {
    "id": "1c40d804"
   },
   "outputs": [],
   "source": [
    "# Predicting values for the training and test datasets using a Ridge regression model with the best hyperparameters.\n",
    "y_train_lm_r_best = lm_r_best.predict(x_train_s)\n",
    "y_test_lm_r_best = lm_r_best.predict(x_test_s)\n",
    "\n",
    "# Calculating the R-squared (coefficient of determination) scores for the training and test datasets.\n",
    "r2_lm_r_best_train = r2_score(y_train, y_train_lm_r_best)\n",
    "r2_lm_r_best_test = r2_score(y_test, y_test_lm_r_best)\n",
    "\n",
    "# Calculating the Mean Squared Error (MSE) for the training and test datasets.\n",
    "mse_lm_r_best_train = mean_squared_error(y_train, y_train_lm_r_best)\n",
    "mse_lm_r_best_test = mean_squared_error(y_test, y_test_lm_r_best)"
   ]
  },
  {
   "cell_type": "code",
   "execution_count": 55,
   "id": "377807f3",
   "metadata": {
    "id": "377807f3"
   },
   "outputs": [
    {
     "name": "stdout",
     "output_type": "stream",
     "text": [
      "Ridge Regression:\n",
      "R-squared (R^2) - Train: 0.5335, Test: 0.5366\n",
      "Mean Squared Error (MSE) - Train: 75028518.5878, Test: 68763923.8062\n",
      "\n"
     ]
    }
   ],
   "source": [
    "# Print the results\n",
    "print(\"Ridge Regression:\")\n",
    "print(f\"R-squared (R^2) - Train: {r2_lm_r_best_train:.4f}, Test: {r2_lm_r_best_test:.4f}\")\n",
    "print(f\"Mean Squared Error (MSE) - Train: {mse_lm_r_best_train:.4f}, Test: {mse_lm_r_best_test:.4f}\\n\")"
   ]
  },
  {
   "cell_type": "markdown",
   "id": "1a94e9c6",
   "metadata": {
    "id": "1a94e9c6"
   },
   "source": [
    "## Lasso regression"
   ]
  },
  {
   "cell_type": "code",
   "execution_count": 56,
   "id": "a7b4b124",
   "metadata": {
    "id": "a7b4b124"
   },
   "outputs": [
    {
     "data": {
      "text/plain": [
       "<seaborn.axisgrid.JointGrid at 0x1f9f079a770>"
      ]
     },
     "execution_count": 56,
     "metadata": {},
     "output_type": "execute_result"
    },
    {
     "data": {
      "image/png": "[encoded data removed]",
      "text/plain": [
       "<Figure size 600x600 with 3 Axes>"
      ]
     },
     "metadata": {},
     "output_type": "display_data"
    }
   ],
   "source": [
    "# Define a range of alpha values for Lasso regression\n",
    "param_range2 = np.logspace(-2,8,100)\n",
    "\n",
    "# Perform cross-validated validation curve to find the best alpha for Lasso regression\n",
    "train_score_l, valid_score_l = validation_curve(Lasso(), x_train_s, y_train, param_name=\"alpha\", param_range = param_range2, cv=5, scoring='r2')\n",
    "\n",
    "# Calculate mean R-squared scores for training and validation sets with Lasso regression\n",
    "train_mean_l = np.mean(train_score_l, axis=1)\n",
    "test_mean_l = np.mean(valid_score_l, axis=1)\n",
    "\n",
    "#Create a joint plot to visualize the relationship between log(alpha) and R-squared\n",
    "sns.jointplot(x=np.log(param_range2), y=test_mean_l)"
   ]
  },
  {
   "cell_type": "code",
   "execution_count": 57,
   "id": "60b775d9",
   "metadata": {
    "id": "60b775d9"
   },
   "outputs": [
    {
     "data": {
      "text/html": [
       "<style>#sk-container-id-2 {color: black;background-color: white;}#sk-container-id-2 pre{padding: 0;}#sk-container-id-2 div.sk-toggleable {background-color: white;}#sk-container-id-2 label.sk-toggleable__label {cursor: pointer;display: block;width: 100%;margin-bottom: 0;padding: 0.3em;box-sizing: border-box;text-align: center;}#sk-container-id-2 label.sk-toggleable__label-arrow:before {content: \"▸\";float: left;margin-right: 0.25em;color: #696969;}#sk-container-id-2 label.sk-toggleable__label-arrow:hover:before {color: black;}#sk-container-id-2 div.sk-estimator:hover label.sk-toggleable__label-arrow:before {color: black;}#sk-container-id-2 div.sk-toggleable__content {max-height: 0;max-width: 0;overflow: hidden;text-align: left;background-color: #f0f8ff;}#sk-container-id-2 div.sk-toggleable__content pre {margin: 0.2em;color: black;border-radius: 0.25em;background-color: #f0f8ff;}#sk-container-id-2 input.sk-toggleable__control:checked~div.sk-toggleable__content {max-height: 200px;max-width: 100%;overflow: auto;}#sk-container-id-2 input.sk-toggleable__control:checked~label.sk-toggleable__label-arrow:before {content: \"▾\";}#sk-container-id-2 div.sk-estimator input.sk-toggleable__control:checked~label.sk-toggleable__label {background-color: #d4ebff;}#sk-container-id-2 div.sk-label input.sk-toggleable__control:checked~label.sk-toggleable__label {background-color: #d4ebff;}#sk-container-id-2 input.sk-hidden--visually {border: 0;clip: rect(1px 1px 1px 1px);clip: rect(1px, 1px, 1px, 1px);height: 1px;margin: -1px;overflow: hidden;padding: 0;position: absolute;width: 1px;}#sk-container-id-2 div.sk-estimator {font-family: monospace;background-color: #f0f8ff;border: 1px dotted black;border-radius: 0.25em;box-sizing: border-box;margin-bottom: 0.5em;}#sk-container-id-2 div.sk-estimator:hover {background-color: #d4ebff;}#sk-container-id-2 div.sk-parallel-item::after {content: \"\";width: 100%;border-bottom: 1px solid gray;flex-grow: 1;}#sk-container-id-2 div.sk-label:hover label.sk-toggleable__label {background-color: #d4ebff;}#sk-container-id-2 div.sk-serial::before {content: \"\";position: absolute;border-left: 1px solid gray;box-sizing: border-box;top: 0;bottom: 0;left: 50%;z-index: 0;}#sk-container-id-2 div.sk-serial {display: flex;flex-direction: column;align-items: center;background-color: white;padding-right: 0.2em;padding-left: 0.2em;position: relative;}#sk-container-id-2 div.sk-item {position: relative;z-index: 1;}#sk-container-id-2 div.sk-parallel {display: flex;align-items: stretch;justify-content: center;background-color: white;position: relative;}#sk-container-id-2 div.sk-item::before, #sk-container-id-2 div.sk-parallel-item::before {content: \"\";position: absolute;border-left: 1px solid gray;box-sizing: border-box;top: 0;bottom: 0;left: 50%;z-index: -1;}#sk-container-id-2 div.sk-parallel-item {display: flex;flex-direction: column;z-index: 1;position: relative;background-color: white;}#sk-container-id-2 div.sk-parallel-item:first-child::after {align-self: flex-end;width: 50%;}#sk-container-id-2 div.sk-parallel-item:last-child::after {align-self: flex-start;width: 50%;}#sk-container-id-2 div.sk-parallel-item:only-child::after {width: 0;}#sk-container-id-2 div.sk-dashed-wrapped {border: 1px dashed gray;margin: 0 0.4em 0.5em 0.4em;box-sizing: border-box;padding-bottom: 0.4em;background-color: white;}#sk-container-id-2 div.sk-label label {font-family: monospace;font-weight: bold;display: inline-block;line-height: 1.2em;}#sk-container-id-2 div.sk-label-container {text-align: center;}#sk-container-id-2 div.sk-container {/* jupyter's `normalize.less` sets `[hidden] { display: none; }` but bootstrap.min.css set `[hidden] { display: none !important; }` so we also need the `!important` here to be able to override the default hidden behavior on the sphinx rendered scikit-learn.org. See: https://github.com/scikit-learn/scikit-learn/issues/21755 */display: inline-block !important;position: relative;}#sk-container-id-2 div.sk-text-repr-fallback {display: none;}</style><div id=\"sk-container-id-2\" class=\"sk-top-container\"><div class=\"sk-text-repr-fallback\"><pre>Lasso(alpha=86.97490026177834)</pre><b>In a Jupyter environment, please rerun this cell to show the HTML representation or trust the notebook. <br />On GitHub, the HTML representation is unable to render, please try loading this page with nbviewer.org.</b></div><div class=\"sk-container\" hidden><div class=\"sk-item\"><div class=\"sk-estimator sk-toggleable\"><input class=\"sk-toggleable__control sk-hidden--visually\" id=\"sk-estimator-id-2\" type=\"checkbox\" checked><label for=\"sk-estimator-id-2\" class=\"sk-toggleable__label sk-toggleable__label-arrow\">Lasso</label><div class=\"sk-toggleable__content\"><pre>Lasso(alpha=86.97490026177834)</pre></div></div></div></div></div>"
      ],
      "text/plain": [
       "Lasso(alpha=86.97490026177834)"
      ]
     },
     "execution_count": 57,
     "metadata": {},
     "output_type": "execute_result"
    }
   ],
   "source": [
    "# Identify the alpha value with the highest R-squared\n",
    "np.where(test_mean_l==max(test_mean_l))\n",
    "\n",
    "# Train a Lasso regression model with the best alpha\n",
    "lm_l_best = Lasso(alpha = param_range2[39])\n",
    "lm_l_best.fit(x_train_s, y_train)"
   ]
  },
  {
   "cell_type": "markdown",
   "id": "d1f15d66",
   "metadata": {
    "id": "d1f15d66"
   },
   "source": [
    "##### Evaluate the Lasso model on the testing and training data"
   ]
  },
  {
   "cell_type": "code",
   "execution_count": 58,
   "id": "9e65b0b1",
   "metadata": {
    "id": "9e65b0b1"
   },
   "outputs": [],
   "source": [
    "# Predicting values for the training and test datasets using a Lasso regression model with the best hyperparameters.\n",
    "y_train_lm_l_best = lm_l_best.predict(x_train_s)\n",
    "y_test_lm_l_best = lm_l_best.predict(x_test_s)\n",
    "\n",
    "# Calculating the R-squared (coefficient of determination) scores for the training and test datasets.\n",
    "r2_lm_l_best_train = r2_score(y_train, y_train_lm_l_best)\n",
    "r2_lm_l_best_test = r2_score(y_test, y_test_lm_l_best)\n",
    "\n",
    "# Calculating the Mean Squared Error (MSE) for the training and test datasets.\n",
    "mse_lm_l_best_train = mean_squared_error(y_train, y_train_lm_l_best)\n",
    "mse_lm_l_best_test = mean_squared_error(y_test, y_test_lm_l_best)"
   ]
  },
  {
   "cell_type": "code",
   "execution_count": 59,
   "id": "b1d97767",
   "metadata": {
    "id": "b1d97767"
   },
   "outputs": [
    {
     "name": "stdout",
     "output_type": "stream",
     "text": [
      "Lasso Regression:\n",
      "R-squared (R^2) - Train: 0.5332, Test: 0.5374\n",
      "Mean Squared Error (MSE) - Train: 75080196.9627, Test: 68643390.1817\n",
      "\n"
     ]
    }
   ],
   "source": [
    "# Print the results\n",
    "print(\"Lasso Regression:\")\n",
    "print(f\"R-squared (R^2) - Train: {r2_lm_l_best_train:.4f}, Test: {r2_lm_l_best_test:.4f}\")\n",
    "print(f\"Mean Squared Error (MSE) - Train: {mse_lm_l_best_train:.4f}, Test: {mse_lm_l_best_test:.4f}\\n\")"
   ]
  }
 ],
 "metadata": {
  "colab": {
   "provenance": []
  },
  "kernelspec": {
   "display_name": "Python 3 (ipykernel)",
   "language": "python",
   "name": "python3"
  },
  "language_info": {
   "codemirror_mode": {
    "name": "ipython",
    "version": 3
   },
   "file_extension": ".py",
   "mimetype": "text/x-python",
   "name": "python",
   "nbconvert_exporter": "python",
   "pygments_lexer": "ipython3",
   "version": "3.10.9"
  }
 },
 "nbformat": 4,
 "nbformat_minor": 5
}
